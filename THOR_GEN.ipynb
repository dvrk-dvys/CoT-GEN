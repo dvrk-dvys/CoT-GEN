{
  "cells": [
    {
      "cell_type": "code",
      "execution_count": null,
      "metadata": {
        "id": "k4A15RO6DkM8"
      },
      "outputs": [],
      "source": [
        "!nvidia-smi"
      ]
    },
    {
      "cell_type": "code",
      "execution_count": null,
      "metadata": {
        "id": "gi3GXJaW3F9w"
      },
      "outputs": [],
      "source": [
        "!python --version\n",
        "\n",
        "!wget https://repo.anaconda.com/miniconda/Miniconda3-latest-Linux-x86_64.sh\n",
        "!chmod +x Miniconda3-latest-Linux-x86_64.sh\n",
        "!bash ./Miniconda3-latest-Linux-x86_64.sh -b -f -p /usr/local\n",
        "\n",
        "import sys\n",
        "\n",
        "sys.path.append('/usr/local/lib/python3.8/site-packages/')\n",
        "\n",
        "!conda create -n py38 python=3.8 -y\n",
        "!conda init bash\n",
        "\n",
        "!source /usr/local/etc/profile.d/conda.sh && conda activate py38 && python --version\n",
        "\n",
        "# !echo \"source activate py38\" > ~/.bashrc\n",
        "# !source activate py38 && python --version\n",
        "\n",
        "from google.colab import drive\n",
        "\n",
        "drive.mount('/content/drive')\n",
        "\n",
        "import os\n",
        "if not os.path.exists('/content/drive/MyDrive/models'):\n",
        "    os.makedirs('/content/drive/MyDrive/models')\n",
        "\n"
      ]
    },
    {
      "cell_type": "code",
      "source": [
        "checkpoint_path = '/content/drive/MyDrive/models/base_restaurants_3.pth.tar'\n",
        "!ls /content/drive/MyDrive/models/\n",
        "\n",
        "# Check if the file exists\n",
        "if os.path.exists(checkpoint_path):\n",
        "    print(f\"The file exists at: {checkpoint_path}\")\n",
        "else:\n",
        "    print(f\"The file does NOT exist at: {checkpoint_path}\")"
      ],
      "metadata": {
        "id": "Gh1RXRZH2dz4"
      },
      "execution_count": null,
      "outputs": []
    },
    {
      "cell_type": "code",
      "source": [],
      "metadata": {
        "id": "Y4HceTRW6-A9"
      },
      "execution_count": null,
      "outputs": []
    },
    {
      "cell_type": "code",
      "execution_count": null,
      "metadata": {
        "id": "kLJt-weH89bv"
      },
      "outputs": [],
      "source": [
        "!git clone https://github.com/dvrk-dvys/THOR-GEN.git\n",
        "%cd /content/THOR-GEN"
      ]
    },
    {
      "cell_type": "code",
      "execution_count": null,
      "metadata": {
        "id": "jc-PrT1z9nJi"
      },
      "outputs": [],
      "source": [
        "# Install packages from requirements.txt within the conda environment\n",
        "!source /usr/local/etc/profile.d/conda.sh && conda activate py38 && pip install -r requirements.txt\n",
        "\n",
        "# If there's an issue with PyYAML, install it separately in the conda environment\n",
        "!source /usr/local/etc/profile.d/conda.sh && conda activate py38 && pip install PyYAML==6.0\n"
      ]
    },
    {
      "cell_type": "code",
      "execution_count": null,
      "metadata": {
        "id": "xvIxryOpEKr8"
      },
      "outputs": [],
      "source": [
        "#ZERO-SHOT\n",
        "#!source /usr/local/etc/profile.d/conda.sh && conda activate py38 && python main.py -c 0 -r thor -d restaurants -z -f \"/content/THOR-GEN/config/config.yaml\"\n",
        "!source /usr/local/etc/profile.d/conda.sh && conda activate py38 && python main.py -c 0 -r thor -d restaurants -f \"/content/THOR-GEN/config/config.yaml\" -ckpt '/content/drive/MyDrive/models/base_restaurants_4.pth.tar'\n",
        "\n",
        "# !python main.py -c 0 -r thor -d restaurants -z True -f \"/content/THOR-ISA/config/config.yaml\"\n",
        "\n"
      ]
    },
    {
      "cell_type": "code",
      "execution_count": null,
      "metadata": {
        "id": "Ek8B3JH0CKMf"
      },
      "outputs": [],
      "source": [
        "!cd data && ls"
      ]
    },
    {
      "cell_type": "markdown",
      "metadata": {
        "id": "9i_dl3iwCJzK"
      },
      "source": []
    },
    {
      "cell_type": "code",
      "execution_count": null,
      "metadata": {
        "id": "rM9EoW5pYF85"
      },
      "outputs": [],
      "source": [
        "import shutil\n",
        "\n",
        "# Define the paths\n",
        "target_dir = '/content/THOR-GEN/data/save'\n",
        "google_drive_path = '/content/drive/MyDrive/model_save'\n",
        "\n",
        "# Copy the model files to Google Drive\n",
        "shutil.copytree(target_dir, google_drive_path)"
      ]
    },
    {
      "cell_type": "code",
      "execution_count": null,
      "metadata": {
        "id": "WzbRlwUxWTN5"
      },
      "outputs": [],
      "source": [
        "cd data\n"
      ]
    },
    {
      "cell_type": "code",
      "execution_count": null,
      "metadata": {
        "id": "KpUk3x86WbOK"
      },
      "outputs": [],
      "source": [
        "ls"
      ]
    }
  ],
  "metadata": {
    "accelerator": "GPU",
    "colab": {
      "gpuType": "L4",
      "machine_shape": "hm",
      "provenance": []
    },
    "kernelspec": {
      "display_name": "Python 3",
      "name": "python3"
    },
    "language_info": {
      "name": "python"
    }
  },
  "nbformat": 4,
  "nbformat_minor": 0
}